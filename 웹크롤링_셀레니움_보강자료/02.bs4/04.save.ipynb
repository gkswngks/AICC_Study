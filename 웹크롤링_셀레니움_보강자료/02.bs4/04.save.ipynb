{
 "cells": [
  {
   "cell_type": "code",
   "execution_count": 5,
   "metadata": {},
   "outputs": [],
   "source": [
    "import requests\n",
    "from bs4 import BeautifulSoup\n",
    "response = requests.get(\"https://startcoding.pythonanywhere.com/basic\")\n",
    "# response.status_code\n",
    "html = response.text\n",
    "soup = BeautifulSoup(html, 'html.parser')\n",
    "tree = soup.select('.product-body')\n",
    "tree\n",
    "data=[]\n",
    "for item in tree:\n",
    "    category = item.select_one(\".product-category\").text\n",
    "    name =  item.select_one(\".product-name\").text\n",
    "    price = item.select_one(\".product-price\").text.strip().replace(',',\"\").split(\"원\")[0]\n",
    "    link = item.select_one(\".product-name > a\").attrs[\"href\"].replace('#',\"\")\n",
    "\n",
    "    data.append([category, name, price, link])\n"
   ]
  },
  {
   "cell_type": "code",
   "execution_count": 3,
   "metadata": {},
   "outputs": [
    {
     "name": "stdout",
     "output_type": "stream",
     "text": [
      "Collecting pandas\n",
      "  Using cached pandas-2.0.3-cp38-cp38-win_amd64.whl.metadata (18 kB)\n",
      "Requirement already satisfied: python-dateutil>=2.8.2 in c:\\users\\hooah\\anaconda3\\envs\\p38_0518\\lib\\site-packages (from pandas) (2.9.0)\n",
      "Collecting pytz>=2020.1 (from pandas)\n",
      "  Using cached pytz-2024.1-py2.py3-none-any.whl.metadata (22 kB)\n",
      "Collecting tzdata>=2022.1 (from pandas)\n",
      "  Using cached tzdata-2024.1-py2.py3-none-any.whl.metadata (1.4 kB)\n",
      "Collecting numpy>=1.20.3 (from pandas)\n",
      "  Using cached numpy-1.24.4-cp38-cp38-win_amd64.whl.metadata (5.6 kB)\n",
      "Requirement already satisfied: six>=1.5 in c:\\users\\hooah\\anaconda3\\envs\\p38_0518\\lib\\site-packages (from python-dateutil>=2.8.2->pandas) (1.16.0)\n",
      "Using cached pandas-2.0.3-cp38-cp38-win_amd64.whl (10.8 MB)\n",
      "Using cached numpy-1.24.4-cp38-cp38-win_amd64.whl (14.9 MB)\n",
      "Using cached pytz-2024.1-py2.py3-none-any.whl (505 kB)\n",
      "Using cached tzdata-2024.1-py2.py3-none-any.whl (345 kB)\n",
      "Installing collected packages: pytz, tzdata, numpy, pandas\n",
      "Successfully installed numpy-1.24.4 pandas-2.0.3 pytz-2024.1 tzdata-2024.1\n"
     ]
    }
   ],
   "source": [
    "!pip install pandas"
   ]
  },
  {
   "cell_type": "code",
   "execution_count": 6,
   "metadata": {},
   "outputs": [],
   "source": [
    "import pandas as pd\n",
    "df1 = pd.DataFrame(data, columns=['카테고리','상품명','가격','상품주소'])"
   ]
  },
  {
   "cell_type": "code",
   "execution_count": 7,
   "metadata": {},
   "outputs": [
    {
     "data": {
      "text/html": [
       "<div>\n",
       "<style scoped>\n",
       "    .dataframe tbody tr th:only-of-type {\n",
       "        vertical-align: middle;\n",
       "    }\n",
       "\n",
       "    .dataframe tbody tr th {\n",
       "        vertical-align: top;\n",
       "    }\n",
       "\n",
       "    .dataframe thead th {\n",
       "        text-align: right;\n",
       "    }\n",
       "</style>\n",
       "<table border=\"1\" class=\"dataframe\">\n",
       "  <thead>\n",
       "    <tr style=\"text-align: right;\">\n",
       "      <th></th>\n",
       "      <th>카테고리</th>\n",
       "      <th>상품명</th>\n",
       "      <th>가격</th>\n",
       "      <th>상품주소</th>\n",
       "    </tr>\n",
       "  </thead>\n",
       "  <tbody>\n",
       "    <tr>\n",
       "      <th>0</th>\n",
       "      <td>노트북</td>\n",
       "      <td>에이서 스위프트 GO 16 OLED, 스틸 그레이, 코어i7, 512GB, 16GB...</td>\n",
       "      <td>1419000</td>\n",
       "      <td>product1_detail.html</td>\n",
       "    </tr>\n",
       "    <tr>\n",
       "      <th>1</th>\n",
       "      <td>노트북</td>\n",
       "      <td>삼성전자 노트북 플러스2 15.6, 퓨어 화이트, NT550XDA-K24AT, 펜티...</td>\n",
       "      <td>549000</td>\n",
       "      <td>product2_detail.html</td>\n",
       "    </tr>\n",
       "    <tr>\n",
       "      <th>2</th>\n",
       "      <td>노트북</td>\n",
       "      <td>레노버 아이디어패드 슬림 1 15AMN7 15.6, 256GB, Free DOS, ...</td>\n",
       "      <td>529000</td>\n",
       "      <td>product3_detail.html</td>\n",
       "    </tr>\n",
       "    <tr>\n",
       "      <th>3</th>\n",
       "      <td>노트북</td>\n",
       "      <td>레노버 V15 G4 AMN 15.6, Arctic Grey, 라이젠3, 256GB,...</td>\n",
       "      <td>624000</td>\n",
       "      <td>product4_detail.html</td>\n",
       "    </tr>\n",
       "    <tr>\n",
       "      <th>4</th>\n",
       "      <td>노트북</td>\n",
       "      <td>LG 울트라PC 엣지 16, 차콜 그레이, 라이젠5, 256GB, 16GB, WIN...</td>\n",
       "      <td>1135000</td>\n",
       "      <td>product5_detail.html</td>\n",
       "    </tr>\n",
       "    <tr>\n",
       "      <th>5</th>\n",
       "      <td>노트북</td>\n",
       "      <td>베이직스 베이직북 14 3세대, BB1422SS, 256GB, White, WIN1...</td>\n",
       "      <td>398000</td>\n",
       "      <td>product6_detail.html</td>\n",
       "    </tr>\n",
       "    <tr>\n",
       "      <th>6</th>\n",
       "      <td>노트북</td>\n",
       "      <td>레노버 아이디어패드 슬림 5i 14IRL 14, Cloud Grey, 코어i5, 5...</td>\n",
       "      <td>899000</td>\n",
       "      <td>product7_detail.html</td>\n",
       "    </tr>\n",
       "    <tr>\n",
       "      <th>7</th>\n",
       "      <td>노트북</td>\n",
       "      <td>레노버 아이디어패드 슬림 5 16IRL 16, Cloud Grey, 512GB, 1...</td>\n",
       "      <td>929000</td>\n",
       "      <td>product8_detail.html</td>\n",
       "    </tr>\n",
       "    <tr>\n",
       "      <th>8</th>\n",
       "      <td>노트북</td>\n",
       "      <td>에이서 스위프트 GO 16 OLED, 스틸 그레이, 코어i5, 512GB, 16GB...</td>\n",
       "      <td>1008000</td>\n",
       "      <td>product9_detail.html</td>\n",
       "    </tr>\n",
       "    <tr>\n",
       "      <th>9</th>\n",
       "      <td>노트북</td>\n",
       "      <td>삼성전자 갤럭시북 2 15.6, 500GB, 실버, NT550XED-K78AS, 코...</td>\n",
       "      <td>1149000</td>\n",
       "      <td>product10_detail.html</td>\n",
       "    </tr>\n",
       "  </tbody>\n",
       "</table>\n",
       "</div>"
      ],
      "text/plain": [
       "  카테고리                                                상품명       가격  \\\n",
       "0  노트북  에이서 스위프트 GO 16 OLED, 스틸 그레이, 코어i7, 512GB, 16GB...  1419000   \n",
       "1  노트북  삼성전자 노트북 플러스2 15.6, 퓨어 화이트, NT550XDA-K24AT, 펜티...   549000   \n",
       "2  노트북  레노버 아이디어패드 슬림 1 15AMN7 15.6, 256GB, Free DOS, ...   529000   \n",
       "3  노트북  레노버 V15 G4 AMN 15.6, Arctic Grey, 라이젠3, 256GB,...   624000   \n",
       "4  노트북  LG 울트라PC 엣지 16, 차콜 그레이, 라이젠5, 256GB, 16GB, WIN...  1135000   \n",
       "5  노트북  베이직스 베이직북 14 3세대, BB1422SS, 256GB, White, WIN1...   398000   \n",
       "6  노트북  레노버 아이디어패드 슬림 5i 14IRL 14, Cloud Grey, 코어i5, 5...   899000   \n",
       "7  노트북  레노버 아이디어패드 슬림 5 16IRL 16, Cloud Grey, 512GB, 1...   929000   \n",
       "8  노트북  에이서 스위프트 GO 16 OLED, 스틸 그레이, 코어i5, 512GB, 16GB...  1008000   \n",
       "9  노트북  삼성전자 갤럭시북 2 15.6, 500GB, 실버, NT550XED-K78AS, 코...  1149000   \n",
       "\n",
       "                    상품주소  \n",
       "0   product1_detail.html  \n",
       "1   product2_detail.html  \n",
       "2   product3_detail.html  \n",
       "3   product4_detail.html  \n",
       "4   product5_detail.html  \n",
       "5   product6_detail.html  \n",
       "6   product7_detail.html  \n",
       "7   product8_detail.html  \n",
       "8   product9_detail.html  \n",
       "9  product10_detail.html  "
      ]
     },
     "execution_count": 7,
     "metadata": {},
     "output_type": "execute_result"
    }
   ],
   "source": [
    "df1"
   ]
  },
  {
   "cell_type": "code",
   "execution_count": 8,
   "metadata": {},
   "outputs": [],
   "source": [
    "df1.to_csv('result.csv', index=False)"
   ]
  },
  {
   "cell_type": "code",
   "execution_count": null,
   "metadata": {},
   "outputs": [],
   "source": []
  }
 ],
 "metadata": {
  "kernelspec": {
   "display_name": "p38_0518",
   "language": "python",
   "name": "python3"
  },
  "language_info": {
   "codemirror_mode": {
    "name": "ipython",
    "version": 3
   },
   "file_extension": ".py",
   "mimetype": "text/x-python",
   "name": "python",
   "nbconvert_exporter": "python",
   "pygments_lexer": "ipython3",
   "version": "3.8.19"
  }
 },
 "nbformat": 4,
 "nbformat_minor": 2
}
