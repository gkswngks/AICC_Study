{
 "cells": [
  {
   "cell_type": "markdown",
   "metadata": {},
   "source": [
    "# 입문자를 위한, 파이썬/R 데이터 분석"
   ]
  },
  {
   "cell_type": "code",
   "execution_count": null,
   "metadata": {},
   "outputs": [],
   "source": []
  },
  {
   "cell_type": "markdown",
   "metadata": {},
   "source": [
    "## Today's mission\n",
    "\n",
    "- 워드클라우드 : 다음뉴스 키워드 검색 및 텍스트 분석\n",
    "- 워드클라우드 : soynlp 라이브러리 활용 명사 추출"
   ]
  },
  {
   "cell_type": "code",
   "execution_count": null,
   "metadata": {},
   "outputs": [],
   "source": []
  },
  {
   "cell_type": "markdown",
   "metadata": {
    "id": "MEbpMks-Uypv"
   },
   "source": [
    "## 워드클라우드 : soynlp 라이브러리 활용 명사 추출\n",
    "* soynlp(https://github.com/lovit/soynlp) 로 토큰화하고 명사를 추출해 워드클라우드 그려보기"
   ]
  },
  {
   "cell_type": "code",
   "execution_count": null,
   "metadata": {},
   "outputs": [],
   "source": []
  },
  {
   "cell_type": "code",
   "execution_count": 1,
   "metadata": {
    "colab": {
     "base_uri": "https://localhost:8080/"
    },
    "executionInfo": {
     "elapsed": 16021,
     "status": "ok",
     "timestamp": 1676130602019,
     "user": {
      "displayName": "송영숙",
      "userId": "01138230862948206591"
     },
     "user_tz": -540
    },
    "id": "4C8tBwIPUypw",
    "outputId": "47e4884d-9120-4fdc-88ee-0d475e0eb1ae"
   },
   "outputs": [],
   "source": [
    "# !pip install soynlp\n",
    "# !pip show soynlp\n",
    "# !pip install wordcloud\n",
    "# !pip install koreanize-matplotlib"
   ]
  },
  {
   "cell_type": "code",
   "execution_count": 2,
   "metadata": {
    "executionInfo": {
     "elapsed": 6,
     "status": "ok",
     "timestamp": 1676130602019,
     "user": {
      "displayName": "송영숙",
      "userId": "01138230862948206591"
     },
     "user_tz": -540
    },
    "id": "3cHJQR0YUyp7"
   },
   "outputs": [],
   "source": [
    "import pandas as pd\n",
    "import numpy as np\n",
    "import re\n",
    "#import koreanize_matplotlib\n",
    "import os\n",
    "import platform\n",
    "# 그래프에 retina display 적용\n",
    "%config InlineBackend.figure_format = 'retina'"
   ]
  },
  {
   "cell_type": "code",
   "execution_count": null,
   "metadata": {},
   "outputs": [],
   "source": []
  },
  {
   "cell_type": "markdown",
   "metadata": {
    "id": "fYiFziyhgize"
   },
   "source": [
    "# 데이터 불러오기\n",
    "*  데이터 출처 : https://github.com/akngs/petitions   (과거데이터만)"
   ]
  },
  {
   "cell_type": "code",
   "execution_count": 3,
   "metadata": {
    "colab": {
     "base_uri": "https://localhost:8080/"
    },
    "executionInfo": {
     "elapsed": 18739,
     "status": "ok",
     "timestamp": 1676130648820,
     "user": {
      "displayName": "송영숙",
      "userId": "01138230862948206591"
     },
     "user_tz": -540
    },
    "id": "Rl1U_CIcUyp9",
    "outputId": "9cf131e1-4aaf-49d2-d839-b6b930d28e19"
   },
   "outputs": [
    {
     "data": {
      "text/plain": [
       "(377756, 7)"
      ]
     },
     "execution_count": 3,
     "metadata": {},
     "output_type": "execute_result"
    }
   ],
   "source": [
    "df = pd.read_csv(f\"data/petition.csv\", index_col=\"article_id\",\n",
    "                        parse_dates=['start', 'end'])\n",
    "df.shape"
   ]
  },
  {
   "cell_type": "code",
   "execution_count": 4,
   "metadata": {
    "colab": {
     "base_uri": "https://localhost:8080/"
    },
    "executionInfo": {
     "elapsed": 14,
     "status": "ok",
     "timestamp": 1676130648821,
     "user": {
      "displayName": "송영숙",
      "userId": "01138230862948206591"
     },
     "user_tz": -540
    },
    "id": "Yg0VqKJZj_Pm",
    "outputId": "2c22203c-a384-4da3-ceb4-0c1cdd9aff9c"
   },
   "outputs": [
    {
     "data": {
      "text/plain": [
       "(377756, 7)"
      ]
     },
     "execution_count": 4,
     "metadata": {},
     "output_type": "execute_result"
    }
   ],
   "source": [
    "df.shape"
   ]
  },
  {
   "cell_type": "code",
   "execution_count": 5,
   "metadata": {
    "colab": {
     "base_uri": "https://localhost:8080/",
     "height": 368
    },
    "executionInfo": {
     "elapsed": 13,
     "status": "ok",
     "timestamp": 1676130648821,
     "user": {
      "displayName": "송영숙",
      "userId": "01138230862948206591"
     },
     "user_tz": -540
    },
    "id": "bYGWDvEbkBvA",
    "outputId": "6296dc63-721e-4b56-ed41-338b17991b71"
   },
   "outputs": [
    {
     "data": {
      "text/html": [
       "<div>\n",
       "<style scoped>\n",
       "    .dataframe tbody tr th:only-of-type {\n",
       "        vertical-align: middle;\n",
       "    }\n",
       "\n",
       "    .dataframe tbody tr th {\n",
       "        vertical-align: top;\n",
       "    }\n",
       "\n",
       "    .dataframe thead th {\n",
       "        text-align: right;\n",
       "    }\n",
       "</style>\n",
       "<table border=\"1\" class=\"dataframe\">\n",
       "  <thead>\n",
       "    <tr style=\"text-align: right;\">\n",
       "      <th></th>\n",
       "      <th>start</th>\n",
       "      <th>end</th>\n",
       "      <th>answered</th>\n",
       "      <th>votes</th>\n",
       "      <th>category</th>\n",
       "      <th>title</th>\n",
       "      <th>content</th>\n",
       "    </tr>\n",
       "    <tr>\n",
       "      <th>article_id</th>\n",
       "      <th></th>\n",
       "      <th></th>\n",
       "      <th></th>\n",
       "      <th></th>\n",
       "      <th></th>\n",
       "      <th></th>\n",
       "      <th></th>\n",
       "    </tr>\n",
       "  </thead>\n",
       "  <tbody>\n",
       "    <tr>\n",
       "      <th>492039</th>\n",
       "      <td>2019-01-09</td>\n",
       "      <td>2019-02-08</td>\n",
       "      <td>0</td>\n",
       "      <td>48</td>\n",
       "      <td>인권/성평등</td>\n",
       "      <td>박종철 의원. 폭행구속수사 및 의원직 박탈 청원합니다</td>\n",
       "      <td>나라돈으로 해외연수가서 현지 동반 가이드를 때려 안경 파편이 얼굴이 꽂혔답니다. C...</td>\n",
       "    </tr>\n",
       "    <tr>\n",
       "      <th>492040</th>\n",
       "      <td>2019-01-09</td>\n",
       "      <td>2019-02-08</td>\n",
       "      <td>0</td>\n",
       "      <td>5</td>\n",
       "      <td>정치개혁</td>\n",
       "      <td>각 정상들은 들으시요 국회의원을 학력과 무관한 양심 및  윤리가 있는  서민이 되어...</td>\n",
       "      <td>각 정당은 현재 국회의원 개개인을 심사하면 지탄받은 사람이 국\\n회를 장악하고 있습...</td>\n",
       "    </tr>\n",
       "    <tr>\n",
       "      <th>492041</th>\n",
       "      <td>2019-01-09</td>\n",
       "      <td>2019-02-08</td>\n",
       "      <td>0</td>\n",
       "      <td>1</td>\n",
       "      <td>외교/통일/국방</td>\n",
       "      <td>남한땅에 옥류관을 오픈해주세요</td>\n",
       "      <td>말그대로 옥류관을 여기서 열면 진짜 재미있고 신나는 일이 일어날것 같은 느낌이 듭니...</td>\n",
       "    </tr>\n",
       "    <tr>\n",
       "      <th>492042</th>\n",
       "      <td>2019-01-09</td>\n",
       "      <td>2019-02-08</td>\n",
       "      <td>0</td>\n",
       "      <td>4</td>\n",
       "      <td>정치개혁</td>\n",
       "      <td>임종석실장님 수고많으셨습니다.</td>\n",
       "      <td>범죄정권이후 많은 어려움을 갖고 시작한 국민의정부.\\n저급한 자칭 보수단체와 한국당...</td>\n",
       "    </tr>\n",
       "    <tr>\n",
       "      <th>492043</th>\n",
       "      <td>2019-01-09</td>\n",
       "      <td>2019-02-08</td>\n",
       "      <td>0</td>\n",
       "      <td>1</td>\n",
       "      <td>행정</td>\n",
       "      <td>예천군과 환경부를 규탄합니다. 어불성설인 가축사육 관련 법규를 개정해주세요!</td>\n",
       "      <td>해당 사건이 발생한 곳은 요즘은 매체에서 매일 나오는 곳으로 '군의원의 외유성 해외...</td>\n",
       "    </tr>\n",
       "  </tbody>\n",
       "</table>\n",
       "</div>"
      ],
      "text/plain": [
       "                start        end  answered  votes  category  \\\n",
       "article_id                                                    \n",
       "492039     2019-01-09 2019-02-08         0     48    인권/성평등   \n",
       "492040     2019-01-09 2019-02-08         0      5      정치개혁   \n",
       "492041     2019-01-09 2019-02-08         0      1  외교/통일/국방   \n",
       "492042     2019-01-09 2019-02-08         0      4      정치개혁   \n",
       "492043     2019-01-09 2019-02-08         0      1        행정   \n",
       "\n",
       "                                                        title  \\\n",
       "article_id                                                      \n",
       "492039                          박종철 의원. 폭행구속수사 및 의원직 박탈 청원합니다   \n",
       "492040      각 정상들은 들으시요 국회의원을 학력과 무관한 양심 및  윤리가 있는  서민이 되어...   \n",
       "492041                                       남한땅에 옥류관을 오픈해주세요   \n",
       "492042                                       임종석실장님 수고많으셨습니다.   \n",
       "492043             예천군과 환경부를 규탄합니다. 어불성설인 가축사육 관련 법규를 개정해주세요!   \n",
       "\n",
       "                                                      content  \n",
       "article_id                                                     \n",
       "492039      나라돈으로 해외연수가서 현지 동반 가이드를 때려 안경 파편이 얼굴이 꽂혔답니다. C...  \n",
       "492040      각 정당은 현재 국회의원 개개인을 심사하면 지탄받은 사람이 국\\n회를 장악하고 있습...  \n",
       "492041      말그대로 옥류관을 여기서 열면 진짜 재미있고 신나는 일이 일어날것 같은 느낌이 듭니...  \n",
       "492042      범죄정권이후 많은 어려움을 갖고 시작한 국민의정부.\\n저급한 자칭 보수단체와 한국당...  \n",
       "492043      해당 사건이 발생한 곳은 요즘은 매체에서 매일 나오는 곳으로 '군의원의 외유성 해외...  "
      ]
     },
     "execution_count": 5,
     "metadata": {},
     "output_type": "execute_result"
    }
   ],
   "source": [
    "df.tail()"
   ]
  },
  {
   "cell_type": "code",
   "execution_count": 6,
   "metadata": {},
   "outputs": [
    {
     "data": {
      "text/html": [
       "<div>\n",
       "<style scoped>\n",
       "    .dataframe tbody tr th:only-of-type {\n",
       "        vertical-align: middle;\n",
       "    }\n",
       "\n",
       "    .dataframe tbody tr th {\n",
       "        vertical-align: top;\n",
       "    }\n",
       "\n",
       "    .dataframe thead th {\n",
       "        text-align: right;\n",
       "    }\n",
       "</style>\n",
       "<table border=\"1\" class=\"dataframe\">\n",
       "  <thead>\n",
       "    <tr style=\"text-align: right;\">\n",
       "      <th></th>\n",
       "      <th>start</th>\n",
       "      <th>end</th>\n",
       "      <th>answered</th>\n",
       "      <th>votes</th>\n",
       "      <th>category</th>\n",
       "      <th>title</th>\n",
       "      <th>content</th>\n",
       "    </tr>\n",
       "    <tr>\n",
       "      <th>article_id</th>\n",
       "      <th></th>\n",
       "      <th></th>\n",
       "      <th></th>\n",
       "      <th></th>\n",
       "      <th></th>\n",
       "      <th></th>\n",
       "      <th></th>\n",
       "    </tr>\n",
       "  </thead>\n",
       "  <tbody>\n",
       "    <tr>\n",
       "      <th>21</th>\n",
       "      <td>2017-08-19</td>\n",
       "      <td>2017-11-17</td>\n",
       "      <td>0</td>\n",
       "      <td>9</td>\n",
       "      <td>안전/환경</td>\n",
       "      <td>스텔라 데이지호에 대한 제안입니다.</td>\n",
       "      <td>스텔라 데이지호에 대한 제안입니다.\\n3월31일 스텔라 데이지호가 침몰하고 5달째가...</td>\n",
       "    </tr>\n",
       "    <tr>\n",
       "      <th>22</th>\n",
       "      <td>2017-08-19</td>\n",
       "      <td>2017-11-17</td>\n",
       "      <td>0</td>\n",
       "      <td>17</td>\n",
       "      <td>기타</td>\n",
       "      <td>비리제보처를 만들어주세요.</td>\n",
       "      <td>현 정부에 국민들이 가장 원하는 것은 부패척결입니다.  우리 사회에 각종 비리들이 ...</td>\n",
       "    </tr>\n",
       "    <tr>\n",
       "      <th>23</th>\n",
       "      <td>2017-08-19</td>\n",
       "      <td>2017-09-03</td>\n",
       "      <td>0</td>\n",
       "      <td>0</td>\n",
       "      <td>미래</td>\n",
       "      <td>제2의 개성공단</td>\n",
       "      <td>만일 하시는 대통령님 및 각 부처 장관님,주무관님들 안녕하세요!!\\n전남 목포에서 ...</td>\n",
       "    </tr>\n",
       "    <tr>\n",
       "      <th>24</th>\n",
       "      <td>2017-08-19</td>\n",
       "      <td>2017-08-26</td>\n",
       "      <td>0</td>\n",
       "      <td>53</td>\n",
       "      <td>일자리</td>\n",
       "      <td>공공기관 무조건적인 정규직전환을 반대합니다.</td>\n",
       "      <td>현정부에서 정규직 일자리를 늘리는 것에 찬성합니다. 그런데 공공기관 비정규직들은 인...</td>\n",
       "    </tr>\n",
       "    <tr>\n",
       "      <th>25</th>\n",
       "      <td>2017-08-19</td>\n",
       "      <td>2017-09-03</td>\n",
       "      <td>0</td>\n",
       "      <td>0</td>\n",
       "      <td>미래</td>\n",
       "      <td>제2의 개성공단</td>\n",
       "      <td>만일 하시는 대통령님 및 각 부처 장관님,주무관님들 안녕하세요!!\\n전남 목포에서 ...</td>\n",
       "    </tr>\n",
       "  </tbody>\n",
       "</table>\n",
       "</div>"
      ],
      "text/plain": [
       "                start        end  answered  votes category  \\\n",
       "article_id                                                   \n",
       "21         2017-08-19 2017-11-17         0      9    안전/환경   \n",
       "22         2017-08-19 2017-11-17         0     17       기타   \n",
       "23         2017-08-19 2017-09-03         0      0       미래   \n",
       "24         2017-08-19 2017-08-26         0     53      일자리   \n",
       "25         2017-08-19 2017-09-03         0      0       미래   \n",
       "\n",
       "                               title  \\\n",
       "article_id                             \n",
       "21               스텔라 데이지호에 대한 제안입니다.   \n",
       "22                    비리제보처를 만들어주세요.   \n",
       "23                          제2의 개성공단   \n",
       "24          공공기관 무조건적인 정규직전환을 반대합니다.   \n",
       "25                          제2의 개성공단   \n",
       "\n",
       "                                                      content  \n",
       "article_id                                                     \n",
       "21          스텔라 데이지호에 대한 제안입니다.\\n3월31일 스텔라 데이지호가 침몰하고 5달째가...  \n",
       "22          현 정부에 국민들이 가장 원하는 것은 부패척결입니다.  우리 사회에 각종 비리들이 ...  \n",
       "23          만일 하시는 대통령님 및 각 부처 장관님,주무관님들 안녕하세요!!\\n전남 목포에서 ...  \n",
       "24          현정부에서 정규직 일자리를 늘리는 것에 찬성합니다. 그런데 공공기관 비정규직들은 인...  \n",
       "25          만일 하시는 대통령님 및 각 부처 장관님,주무관님들 안녕하세요!!\\n전남 목포에서 ...  "
      ]
     },
     "execution_count": 6,
     "metadata": {},
     "output_type": "execute_result"
    }
   ],
   "source": [
    "df.head()"
   ]
  },
  {
   "cell_type": "code",
   "execution_count": null,
   "metadata": {},
   "outputs": [],
   "source": []
  },
  {
   "cell_type": "markdown",
   "metadata": {
    "id": "iK_karn7Uyp_"
   },
   "source": [
    "## 자신의 관심사에 맞는 단어로 데이터를 가져온다."
   ]
  },
  {
   "cell_type": "code",
   "execution_count": 7,
   "metadata": {
    "colab": {
     "base_uri": "https://localhost:8080/"
    },
    "executionInfo": {
     "elapsed": 9072,
     "status": "ok",
     "timestamp": 1676130657882,
     "user": {
      "displayName": "송영숙",
      "userId": "01138230862948206591"
     },
     "user_tz": -540
    },
    "id": "sgzZ8YqXUyqA",
    "outputId": "56c2d56e-7f0e-492b-9409-ade67e06b3b1"
   },
   "outputs": [
    {
     "data": {
      "text/plain": [
       "(14960, 7)"
      ]
     },
     "execution_count": 7,
     "metadata": {},
     "output_type": "execute_result"
    }
   ],
   "source": [
    "p = r'.*(돌봄|육아|초등|보육).*'\n",
    "care = df[df['title'].str.match(p) |\n",
    "           df['content'].str.match(p, flags=re.MULTILINE)]\n",
    "care.shape"
   ]
  },
  {
   "cell_type": "code",
   "execution_count": 8,
   "metadata": {
    "colab": {
     "base_uri": "https://localhost:8080/",
     "height": 222
    },
    "executionInfo": {
     "elapsed": 29,
     "status": "ok",
     "timestamp": 1676130657883,
     "user": {
      "displayName": "송영숙",
      "userId": "01138230862948206591"
     },
     "user_tz": -540
    },
    "id": "-R2fJgIbUyqD",
    "outputId": "6ec144d1-5898-4188-9eb5-71881e1fe491"
   },
   "outputs": [
    {
     "data": {
      "text/html": [
       "<div>\n",
       "<style scoped>\n",
       "    .dataframe tbody tr th:only-of-type {\n",
       "        vertical-align: middle;\n",
       "    }\n",
       "\n",
       "    .dataframe tbody tr th {\n",
       "        vertical-align: top;\n",
       "    }\n",
       "\n",
       "    .dataframe thead th {\n",
       "        text-align: right;\n",
       "    }\n",
       "</style>\n",
       "<table border=\"1\" class=\"dataframe\">\n",
       "  <thead>\n",
       "    <tr style=\"text-align: right;\">\n",
       "      <th></th>\n",
       "      <th>start</th>\n",
       "      <th>end</th>\n",
       "      <th>answered</th>\n",
       "      <th>votes</th>\n",
       "      <th>category</th>\n",
       "      <th>title</th>\n",
       "      <th>content</th>\n",
       "    </tr>\n",
       "    <tr>\n",
       "      <th>article_id</th>\n",
       "      <th></th>\n",
       "      <th></th>\n",
       "      <th></th>\n",
       "      <th></th>\n",
       "      <th></th>\n",
       "      <th></th>\n",
       "      <th></th>\n",
       "    </tr>\n",
       "  </thead>\n",
       "  <tbody>\n",
       "    <tr>\n",
       "      <th>24</th>\n",
       "      <td>2017-08-19</td>\n",
       "      <td>2017-08-26</td>\n",
       "      <td>0</td>\n",
       "      <td>53</td>\n",
       "      <td>일자리</td>\n",
       "      <td>공공기관 무조건적인 정규직전환을 반대합니다.</td>\n",
       "      <td>현정부에서 정규직 일자리를 늘리는 것에 찬성합니다. 그런데 공공기관 비정규직들은 인...</td>\n",
       "    </tr>\n",
       "    <tr>\n",
       "      <th>36</th>\n",
       "      <td>2017-08-19</td>\n",
       "      <td>2017-08-26</td>\n",
       "      <td>0</td>\n",
       "      <td>1</td>\n",
       "      <td>인권/성평등</td>\n",
       "      <td>한국채식인구 100만명. 학교 급식 및 군대에서 현미채식 선택권을 보장해주십시오!</td>\n",
       "      <td>문재인 대통령님과 각 정부 인사분들께 마음속 깊이 존경과 감사를 표합니다. 대한민국...</td>\n",
       "    </tr>\n",
       "  </tbody>\n",
       "</table>\n",
       "</div>"
      ],
      "text/plain": [
       "                start        end  answered  votes category  \\\n",
       "article_id                                                   \n",
       "24         2017-08-19 2017-08-26         0     53      일자리   \n",
       "36         2017-08-19 2017-08-26         0      1   인권/성평등   \n",
       "\n",
       "                                                    title  \\\n",
       "article_id                                                  \n",
       "24                               공공기관 무조건적인 정규직전환을 반대합니다.   \n",
       "36          한국채식인구 100만명. 학교 급식 및 군대에서 현미채식 선택권을 보장해주십시오!   \n",
       "\n",
       "                                                      content  \n",
       "article_id                                                     \n",
       "24          현정부에서 정규직 일자리를 늘리는 것에 찬성합니다. 그런데 공공기관 비정규직들은 인...  \n",
       "36          문재인 대통령님과 각 정부 인사분들께 마음속 깊이 존경과 감사를 표합니다. 대한민국...  "
      ]
     },
     "execution_count": 8,
     "metadata": {},
     "output_type": "execute_result"
    }
   ],
   "source": [
    "care.head(2)"
   ]
  },
  {
   "cell_type": "code",
   "execution_count": 9,
   "metadata": {
    "executionInfo": {
     "elapsed": 28,
     "status": "ok",
     "timestamp": 1676130657884,
     "user": {
      "displayName": "송영숙",
      "userId": "01138230862948206591"
     },
     "user_tz": -540
    },
    "id": "u9CN38Hw8nXo"
   },
   "outputs": [],
   "source": [
    "sample_index = 24"
   ]
  },
  {
   "cell_type": "code",
   "execution_count": 10,
   "metadata": {
    "colab": {
     "base_uri": "https://localhost:8080/",
     "height": 36
    },
    "executionInfo": {
     "elapsed": 28,
     "status": "ok",
     "timestamp": 1676130657884,
     "user": {
      "displayName": "송영숙",
      "userId": "01138230862948206591"
     },
     "user_tz": -540
    },
    "id": "7eXPKfTE9I4Y",
    "outputId": "426043e3-547c-4e68-d171-b613de2a2588"
   },
   "outputs": [
    {
     "data": {
      "text/plain": [
       "'공공기관 무조건적인 정규직전환을 반대합니다.'"
      ]
     },
     "execution_count": 10,
     "metadata": {},
     "output_type": "execute_result"
    }
   ],
   "source": [
    "sample_title = care.loc[sample_index, 'title']\n",
    "sample_title"
   ]
  },
  {
   "cell_type": "code",
   "execution_count": null,
   "metadata": {},
   "outputs": [],
   "source": []
  },
  {
   "cell_type": "markdown",
   "metadata": {
    "id": "MGEFdokR9p-G"
   },
   "source": [
    "### sample_content 내용 확인"
   ]
  },
  {
   "cell_type": "code",
   "execution_count": 11,
   "metadata": {
    "colab": {
     "base_uri": "https://localhost:8080/",
     "height": 129
    },
    "executionInfo": {
     "elapsed": 27,
     "status": "ok",
     "timestamp": 1676130657884,
     "user": {
      "displayName": "송영숙",
      "userId": "01138230862948206591"
     },
     "user_tz": -540
    },
    "id": "YzihuRRWUyqc",
    "outputId": "ebc6b0f1-2f7f-46bc-b441-6d6a32b5de7e",
    "scrolled": true
   },
   "outputs": [
    {
     "data": {
      "text/plain": [
       "'현정부에서 정규직 일자리를 늘리는 것에 찬성합니다. 그런데 공공기관 비정규직들은 인맥으로 들어온 경우가 많습니다. 자질이 안되는데도 정규직이 된다면 그 피해는 국민들에게 돌아갈것입니다. 현재 공공기관 정규직들은 100대1의 경쟁률을 뚫고 들어온 경우도 있습니다. 지금도 노량진에서 수많은 청춘들이 공부를 하고 있죠. 기존 비정규직들을 무조건적으로 무기직 전환한다면 또 다른 정유라 탄생이고 역차별입니다. 새로 필요로 하는 신규채용부터 공채절차를 거쳐 무기직 전환해야합니다. 예전에 공무원 기능직의 일반직 전환, 초등학교에 중초교사 임용 등이 그 예죠. 실제 일하는 곳에서는 그분들로 인한 업무처리 미흡으로 문제가 되고 있습니다. 사립학교는 인건비를 국가에서 주니 사립학교도 국가에서 공채해야 합니다. 부디 사례 하나하나를 보아가며 처리해주시고 전체 정규직 숫자 전환만 보며 공약실천을 무리하게 하지 말아주세요.  국민들은 정의로운 나라를 원합니다. 역차별이 아닌 공정한 채용이 되게 해주세요.'"
      ]
     },
     "execution_count": 11,
     "metadata": {},
     "output_type": "execute_result"
    }
   ],
   "source": [
    "sample_content = care['content'][sample_index]\n",
    "sample_content"
   ]
  },
  {
   "cell_type": "code",
   "execution_count": null,
   "metadata": {},
   "outputs": [],
   "source": []
  },
  {
   "cell_type": "markdown",
   "metadata": {
    "id": "SfJhb1F89wqZ"
   },
   "source": [
    "## 토큰화\n",
    "\n",
    "Soynlp에서 제공하는 RegexTokenizer를 사용하여 토큰화 "
   ]
  },
  {
   "cell_type": "markdown",
   "metadata": {
    "id": "_iOLPdxVUyqf"
   },
   "source": [
    "# 토큰화"
   ]
  },
  {
   "cell_type": "code",
   "execution_count": 13,
   "metadata": {},
   "outputs": [],
   "source": [
    "#!pip install soynlp"
   ]
  },
  {
   "cell_type": "code",
   "execution_count": 12,
   "metadata": {
    "colab": {
     "base_uri": "https://localhost:8080/"
    },
    "executionInfo": {
     "elapsed": 28,
     "status": "ok",
     "timestamp": 1676130657885,
     "user": {
      "displayName": "송영숙",
      "userId": "01138230862948206591"
     },
     "user_tz": -540
    },
    "id": "TzXp-OFgc4zN",
    "outputId": "b4800a5f-c4ac-4445-dc37-f2c62ecdeb0e"
   },
   "outputs": [
    {
     "ename": "ModuleNotFoundError",
     "evalue": "No module named 'soynlp'",
     "output_type": "error",
     "traceback": [
      "\u001b[1;31m---------------------------------------------------------------------------\u001b[0m",
      "\u001b[1;31mModuleNotFoundError\u001b[0m                       Traceback (most recent call last)",
      "Input \u001b[1;32mIn [12]\u001b[0m, in \u001b[0;36m<cell line: 1>\u001b[1;34m()\u001b[0m\n\u001b[1;32m----> 1\u001b[0m \u001b[38;5;28;01mfrom\u001b[39;00m \u001b[38;5;21;01msoynlp\u001b[39;00m\u001b[38;5;21;01m.\u001b[39;00m\u001b[38;5;21;01mtokenizer\u001b[39;00m \u001b[38;5;28;01mimport\u001b[39;00m RegexTokenizer\n\u001b[0;32m      3\u001b[0m tokenizer \u001b[38;5;241m=\u001b[39m RegexTokenizer()\n\u001b[0;32m      4\u001b[0m tokenizer\n",
      "\u001b[1;31mModuleNotFoundError\u001b[0m: No module named 'soynlp'"
     ]
    }
   ],
   "source": [
    "from soynlp.tokenizer import RegexTokenizer\n",
    "\n",
    "tokenizer = RegexTokenizer()\n",
    "tokenizer"
   ]
  },
  {
   "cell_type": "code",
   "execution_count": null,
   "metadata": {
    "colab": {
     "base_uri": "https://localhost:8080/"
    },
    "executionInfo": {
     "elapsed": 25,
     "status": "ok",
     "timestamp": 1676130657885,
     "user": {
      "displayName": "송영숙",
      "userId": "01138230862948206591"
     },
     "user_tz": -540
    },
    "id": "tAeDHLGKUyqf",
    "outputId": "8b9532fb-11d8-4cee-f97c-65cda66c98fe"
   },
   "outputs": [],
   "source": [
    "tokened_title = tokenizer.tokenize(sample_title)\n",
    "tokened_title"
   ]
  },
  {
   "cell_type": "code",
   "execution_count": null,
   "metadata": {
    "colab": {
     "base_uri": "https://localhost:8080/"
    },
    "executionInfo": {
     "elapsed": 25,
     "status": "ok",
     "timestamp": 1676130657886,
     "user": {
      "displayName": "송영숙",
      "userId": "01138230862948206591"
     },
     "user_tz": -540
    },
    "id": "8fhY7dEDUyqi",
    "outputId": "48c2ea47-3ab1-4d3a-b1ab-8bcfbb6965e0"
   },
   "outputs": [],
   "source": [
    "tokened_content = tokenizer.tokenize(sample_content)\n",
    "tokened_content[:20]"
   ]
  },
  {
   "cell_type": "code",
   "execution_count": null,
   "metadata": {
    "colab": {
     "base_uri": "https://localhost:8080/"
    },
    "executionInfo": {
     "elapsed": 6,
     "status": "ok",
     "timestamp": 1676130658289,
     "user": {
      "displayName": "송영숙",
      "userId": "01138230862948206591"
     },
     "user_tz": -540
    },
    "id": "eHw05AF0Uyqn",
    "outputId": "cf2e10d5-72e9-4ca2-a68a-bcf13b92cbb1"
   },
   "outputs": [],
   "source": [
    "print(len(tokened_title))\n",
    "print(len(tokened_content))"
   ]
  },
  {
   "cell_type": "code",
   "execution_count": null,
   "metadata": {},
   "outputs": [],
   "source": []
  },
  {
   "cell_type": "markdown",
   "metadata": {
    "id": "-xal6i47Uyqq"
   },
   "source": [
    "# 텍스트 데이터 전처리 \n",
    "* 개행문자(줄바꿈 문자) 제거"
   ]
  },
  {
   "cell_type": "code",
   "execution_count": null,
   "metadata": {},
   "outputs": [],
   "source": [
    "care['content'].head()"
   ]
  },
  {
   "cell_type": "code",
   "execution_count": null,
   "metadata": {
    "executionInfo": {
     "elapsed": 2217,
     "status": "ok",
     "timestamp": 1676130660501,
     "user": {
      "displayName": "송영숙",
      "userId": "01138230862948206591"
     },
     "user_tz": -540
    },
    "id": "0eKyZFXNiIHk"
   },
   "outputs": [],
   "source": [
    "content_text = care['content'].str.replace(\"\\\\\\\\n\", \" \", regex=True)\n",
    "content_text = content_text.str.replace(\"[^ㄱ-ㅎㅏ-ㅣ가-힣 a-zA-Z]\", \" \", regex=True)"
   ]
  },
  {
   "cell_type": "code",
   "execution_count": null,
   "metadata": {
    "colab": {
     "base_uri": "https://localhost:8080/"
    },
    "executionInfo": {
     "elapsed": 7,
     "status": "ok",
     "timestamp": 1676130660502,
     "user": {
      "displayName": "송영숙",
      "userId": "01138230862948206591"
     },
     "user_tz": -540
    },
    "id": "7sHwoWFqiIHl",
    "outputId": "fea08797-4744-4a82-b9fc-439e8dd8af2b"
   },
   "outputs": [],
   "source": [
    "content_text.head()"
   ]
  },
  {
   "cell_type": "code",
   "execution_count": null,
   "metadata": {
    "colab": {
     "base_uri": "https://localhost:8080/"
    },
    "executionInfo": {
     "elapsed": 39109,
     "status": "ok",
     "timestamp": 1676130699605,
     "user": {
      "displayName": "송영숙",
      "userId": "01138230862948206591"
     },
     "user_tz": -540
    },
    "id": "EJ-K9DleUyq0",
    "outputId": "64f16247-4ae2-4905-b235-dc28f3b7fa58"
   },
   "outputs": [],
   "source": [
    "tokens = content_text.apply(tokenizer.tokenize)\n",
    "tokens[:3]"
   ]
  },
  {
   "cell_type": "code",
   "execution_count": null,
   "metadata": {
    "colab": {
     "base_uri": "https://localhost:8080/"
    },
    "executionInfo": {
     "elapsed": 17,
     "status": "ok",
     "timestamp": 1676130699605,
     "user": {
      "displayName": "송영숙",
      "userId": "01138230862948206591"
     },
     "user_tz": -540
    },
    "id": "c0Kob4-7Uyq2",
    "outputId": "410d87fe-c54b-47d8-d3b6-f33f60e1e104"
   },
   "outputs": [],
   "source": [
    "tokens[sample_index][:10]"
   ]
  },
  {
   "cell_type": "code",
   "execution_count": null,
   "metadata": {},
   "outputs": [],
   "source": [
    "content_text.head()"
   ]
  },
  {
   "cell_type": "code",
   "execution_count": null,
   "metadata": {},
   "outputs": [],
   "source": []
  },
  {
   "cell_type": "markdown",
   "metadata": {
    "id": "AnZuxoTgNRHW"
   },
   "source": [
    "## 워드 클라우드 그리기"
   ]
  },
  {
   "cell_type": "code",
   "execution_count": null,
   "metadata": {
    "colab": {
     "base_uri": "https://localhost:8080/"
    },
    "executionInfo": {
     "elapsed": 2525,
     "status": "ok",
     "timestamp": 1676130702116,
     "user": {
      "displayName": "송영숙",
      "userId": "01138230862948206591"
     },
     "user_tz": -540
    },
    "id": "ja1NkAPdUyq5",
    "outputId": "c83cf219-2d24-4d11-83c1-72536c3f0c0b"
   },
   "outputs": [],
   "source": [
    "from wordcloud import WordCloud\n",
    "import matplotlib.pyplot as plt"
   ]
  },
  {
   "cell_type": "code",
   "execution_count": null,
   "metadata": {
    "colab": {
     "base_uri": "https://localhost:8080/"
    },
    "executionInfo": {
     "elapsed": 2525,
     "status": "ok",
     "timestamp": 1676130702116,
     "user": {
      "displayName": "송영숙",
      "userId": "01138230862948206591"
     },
     "user_tz": -540
    },
    "id": "ja1NkAPdUyq5",
    "outputId": "c83cf219-2d24-4d11-83c1-72536c3f0c0b"
   },
   "outputs": [],
   "source": [
    "stopwords = ['하지만', '그리고', '그런데', '저는','제가',\n",
    "             '그럼', '이런', '저런', '합니다',\n",
    "             '많은', '많이', '정말', '너무'] "
   ]
  },
  {
   "cell_type": "markdown",
   "metadata": {},
   "source": [
    "- [WordCloud 오류 해결](https://velog.io/@jaeho99/%EB%8D%B0%EC%9D%B4%ED%84%B0-%EC%97%94%EC%A7%80%EB%8B%88%EC%96%B4%EB%A7%81-%EB%8D%B0%EB%B8%8C%EC%BD%94%EC%8A%A4-2%EA%B8%B0-TIL3%EC%A3%BC%EC%B0%A8-06-%ED%8C%8C%EC%9D%B4%EC%8D%AC%EC%9C%BC%EB%A1%9C-%EC%9B%B9-%EB%8B%A4%EB%A3%A8%EA%B8%B0%EB%8D%B0%EC%9D%B4%ED%84%B0-%EC%8B%9C%EA%B0%81%ED%99%94)"
   ]
  },
  {
   "cell_type": "code",
   "execution_count": null,
   "metadata": {},
   "outputs": [],
   "source": [
    "#!pip install --upgrade pip\n",
    "#!pip install --upgrade Pillow"
   ]
  },
  {
   "cell_type": "code",
   "execution_count": null,
   "metadata": {
    "colab": {
     "base_uri": "https://localhost:8080/"
    },
    "executionInfo": {
     "elapsed": 2525,
     "status": "ok",
     "timestamp": 1676130702116,
     "user": {
      "displayName": "송영숙",
      "userId": "01138230862948206591"
     },
     "user_tz": -540
    },
    "id": "ja1NkAPdUyq5",
    "outputId": "c83cf219-2d24-4d11-83c1-72536c3f0c0b"
   },
   "outputs": [],
   "source": [
    "def display_word_cloud(data, width=1200, height=500):\n",
    "    \n",
    "    word_draw = WordCloud(\n",
    "        font_path=r\"data/malgun.ttf\",\n",
    "        width=width, height=height,\n",
    "        stopwords=stopwords, \n",
    "        background_color=\"white\",\n",
    "        random_state=42\n",
    "    )\n",
    "    word_draw.generate(data)\n",
    "\n",
    "    plt.figure(figsize=(15, 7))\n",
    "    plt.imshow(word_draw)\n",
    "    plt.axis(\"off\")\n",
    "    plt.show()"
   ]
  },
  {
   "cell_type": "code",
   "execution_count": null,
   "metadata": {
    "colab": {
     "base_uri": "https://localhost:8080/"
    },
    "executionInfo": {
     "elapsed": 2525,
     "status": "ok",
     "timestamp": 1676130702116,
     "user": {
      "displayName": "송영숙",
      "userId": "01138230862948206591"
     },
     "user_tz": -540
    },
    "id": "ja1NkAPdUyq5",
    "outputId": "c83cf219-2d24-4d11-83c1-72536c3f0c0b"
   },
   "outputs": [],
   "source": [
    "# display_word_cloud 함수 안에 font_path 위치\n",
    "display_word_cloud(' '.join(content_text))"
   ]
  },
  {
   "cell_type": "markdown",
   "metadata": {
    "id": "bZ4zhnnNJujs"
   },
   "source": [
    "출력 결과를 보면 '수'나 '및'과 같이 문서의 의미를 특징 짓지 않는 불용어(STOPWORD)가 너무 많다는 것을 알 수 있다.\n"
   ]
  },
  {
   "cell_type": "code",
   "execution_count": null,
   "metadata": {},
   "outputs": [],
   "source": []
  },
  {
   "cell_type": "markdown",
   "metadata": {
    "id": "B6GnGO5PPZrQ"
   },
   "source": [
    "## 명사만 추출하여 시각화"
   ]
  },
  {
   "cell_type": "code",
   "execution_count": null,
   "metadata": {
    "executionInfo": {
     "elapsed": 11,
     "status": "ok",
     "timestamp": 1676130747205,
     "user": {
      "displayName": "송영숙",
      "userId": "01138230862948206591"
     },
     "user_tz": -540
    },
    "id": "qv6tTdo9UyrA"
   },
   "outputs": [],
   "source": [
    "from soynlp.noun import LRNounExtractor"
   ]
  },
  {
   "cell_type": "markdown",
   "metadata": {},
   "source": [
    "- 주피터 노트북에서 실행 시간을 측정하는 매직 명령어   \n",
    "    - %%time : 전체 셀의 실행 시간을 측정. 따라서 셀에 포함된 모든 코드의 실행 시간을 측정.  \n",
    "    - %time : 한 줄의 코드나 한 줄의 표현식의 실행 시간을 측정. 따라서 코드 한 줄의 실행 시간만을 측정."
   ]
  },
  {
   "cell_type": "code",
   "execution_count": null,
   "metadata": {
    "colab": {
     "base_uri": "https://localhost:8080/"
    },
    "executionInfo": {
     "elapsed": 80251,
     "status": "ok",
     "timestamp": 1676130827446,
     "user": {
      "displayName": "송영숙",
      "userId": "01138230862948206591"
     },
     "user_tz": -540
    },
    "id": "9RzqhvQAUyrB",
    "outputId": "9d03cfee-3e25-422e-f8bc-9ca9f9df2330"
   },
   "outputs": [],
   "source": [
    "%%time\n",
    "noun_extractor = LRNounExtractor(verbose=True)\n",
    "noun_extractor.train(content_text)\n",
    "nouns = noun_extractor.extract()"
   ]
  },
  {
   "cell_type": "code",
   "execution_count": null,
   "metadata": {
    "colab": {
     "base_uri": "https://localhost:8080/",
     "height": 54
    },
    "executionInfo": {
     "elapsed": 7,
     "status": "ok",
     "timestamp": 1676130827447,
     "user": {
      "displayName": "송영숙",
      "userId": "01138230862948206591"
     },
     "user_tz": -540
    },
    "id": "EXMSgbqBiIHo",
    "outputId": "06482b04-d964-4c8d-8d26-760e4ff421b9"
   },
   "outputs": [],
   "source": [
    "nouns_text = \" \".join(list(nouns.keys()))\n",
    "nouns_text[:100]"
   ]
  },
  {
   "cell_type": "code",
   "execution_count": null,
   "metadata": {
    "colab": {
     "base_uri": "https://localhost:8080/",
     "height": 417
    },
    "executionInfo": {
     "elapsed": 4033,
     "status": "ok",
     "timestamp": 1676130831474,
     "user": {
      "displayName": "송영숙",
      "userId": "01138230862948206591"
     },
     "user_tz": -540
    },
    "id": "m_wcP5H8UyrE",
    "outputId": "f16a0440-eae3-4953-e317-b765a18f801f"
   },
   "outputs": [],
   "source": [
    "# 추출된 명사를 워크 클라우드를 통해 시각화한다.\n",
    "%time\n",
    "display_word_cloud(nouns_text)"
   ]
  },
  {
   "cell_type": "code",
   "execution_count": null,
   "metadata": {},
   "outputs": [],
   "source": []
  }
 ],
 "metadata": {
  "colab": {
   "provenance": []
  },
  "kernelspec": {
   "display_name": "Python 3 (ipykernel)",
   "language": "python",
   "name": "python3"
  },
  "language_info": {
   "codemirror_mode": {
    "name": "ipython",
    "version": 3
   },
   "file_extension": ".py",
   "mimetype": "text/x-python",
   "name": "python",
   "nbconvert_exporter": "python",
   "pygments_lexer": "ipython3",
   "version": "3.9.12"
  },
  "toc": {
   "base_numbering": 1,
   "nav_menu": {},
   "number_sections": true,
   "sideBar": true,
   "skip_h1_title": false,
   "title_cell": "Table of Contents",
   "title_sidebar": "Contents",
   "toc_cell": false,
   "toc_position": {},
   "toc_section_display": true,
   "toc_window_display": false
  },
  "varInspector": {
   "cols": {
    "lenName": 16,
    "lenType": 16,
    "lenVar": 40
   },
   "kernels_config": {
    "python": {
     "delete_cmd_postfix": "",
     "delete_cmd_prefix": "del ",
     "library": "var_list.py",
     "varRefreshCmd": "print(var_dic_list())"
    },
    "r": {
     "delete_cmd_postfix": ") ",
     "delete_cmd_prefix": "rm(",
     "library": "var_list.r",
     "varRefreshCmd": "cat(var_dic_list()) "
    }
   },
   "types_to_exclude": [
    "module",
    "function",
    "builtin_function_or_method",
    "instance",
    "_Feature"
   ],
   "window_display": false
  }
 },
 "nbformat": 4,
 "nbformat_minor": 1
}
